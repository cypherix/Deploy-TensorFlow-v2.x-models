{
 "cells": [
  {
   "cell_type": "markdown",
   "metadata": {},
   "source": [
    "# Deploy your production ready TensorFlow v2.x models with classify signature."
   ]
  },
  {
   "cell_type": "markdown",
   "metadata": {},
   "source": [
    "## Training and Signtaure creation"
   ]
  },
  {
   "cell_type": "code",
   "execution_count": 1,
   "metadata": {
    "colab": {
     "base_uri": "https://localhost:8080/",
     "height": 34
    },
    "colab_type": "code",
    "id": "dzLKpmZICaWN",
    "outputId": "da36b678-5ff6-4e2c-dd9e-2dc3170bba8c"
   },
   "outputs": [
    {
     "name": "stdout",
     "output_type": "stream",
     "text": [
      "2.1.0\n"
     ]
    }
   ],
   "source": [
    "import os\n",
    "\n",
    "# TensorFlow and tf.keras\n",
    "import tensorflow as tf\n",
    "print(tf.__version__)"
   ]
  },
  {
   "cell_type": "code",
   "execution_count": 2,
   "metadata": {},
   "outputs": [],
   "source": [
    "# This is for using the GPU efficiently\n",
    "from tensorflow.compat.v1 import ConfigProto\n",
    "from tensorflow.compat.v1 import InteractiveSession\n",
    "\n",
    "config = ConfigProto()\n",
    "config.gpu_options.allow_growth = True\n",
    "session = InteractiveSession(config=config)"
   ]
  },
  {
   "cell_type": "code",
   "execution_count": 3,
   "metadata": {},
   "outputs": [],
   "source": [
    "import tensorflow as tf\n",
    "from tensorflow.python.ops import lookup_ops\n",
    "from tensorflow.python.ops import array_ops\n",
    "from tensorflow.python.framework import dtypes\n",
    "from tensorflow.python.saved_model.signature_def_utils_impl import \\\n",
    "    build_signature_def\n",
    "from tensorflow.python.saved_model.signature_def_utils_impl import \\\n",
    "    is_valid_signature\n",
    "\n",
    "from tensorflow.compat.v1.saved_model.utils import build_tensor_info"
   ]
  },
  {
   "cell_type": "code",
   "execution_count": 4,
   "metadata": {},
   "outputs": [],
   "source": [
    "from tensorflow.python.saved_model import tag_constants, signature_constants\n",
    "from tensorflow.python.saved_model import builder as saved_builder\n",
    "\n",
    "from tensorflow.compat.v1.keras.backend import get_session"
   ]
  },
  {
   "cell_type": "code",
   "execution_count": 5,
   "metadata": {},
   "outputs": [],
   "source": [
    "tf.compat.v1.disable_eager_execution()"
   ]
  },
  {
   "cell_type": "code",
   "execution_count": 6,
   "metadata": {
    "colab": {
     "base_uri": "https://localhost:8080/",
     "height": 255
    },
    "colab_type": "code",
    "id": "7MqDQO0KCaWS",
    "outputId": "18ee19db-cc5e-4141-9e27-ba8f52b2c148"
   },
   "outputs": [
    {
     "name": "stdout",
     "output_type": "stream",
     "text": [
      "\n",
      "train_images.shape: (60000, 28, 28, 1), of float64\n",
      "test_images.shape: (10000, 28, 28, 1), of float64\n"
     ]
    }
   ],
   "source": [
    "# Get the dataset\n",
    "fashion_mnist = tf.keras.datasets.fashion_mnist\n",
    "(train_images, train_labels), (test_images, test_labels) = fashion_mnist.load_data()\n",
    "\n",
    "# scale the values to 0.0 to 1.0\n",
    "train_images = train_images / 255.0\n",
    "test_images = test_images / 255.0\n",
    "\n",
    "# reshape for feeding into the model\n",
    "train_images = train_images.reshape(train_images.shape[0], 28, 28, 1)\n",
    "test_images = test_images.reshape(test_images.shape[0], 28, 28, 1)\n",
    "\n",
    "class_names = ['T-shirt/top', 'Trouser', 'Pullover', 'Dress', 'Coat',\n",
    "               'Sandal', 'Shirt', 'Sneaker', 'Bag', 'Ankle boot']\n",
    "\n",
    "print('\\ntrain_images.shape: {}, of {}'.format(train_images.shape, train_images.dtype))\n",
    "print('test_images.shape: {}, of {}'.format(test_images.shape, test_images.dtype))"
   ]
  },
  {
   "cell_type": "code",
   "execution_count": 7,
   "metadata": {
    "scrolled": true
   },
   "outputs": [
    {
     "name": "stderr",
     "output_type": "stream",
     "text": [
      "WARNING: Logging before flag parsing goes to stderr.\n",
      "W0413 19:24:51.742632 139790839142208 deprecation.py:506] From /home/krxat/anaconda3/envs/tflow2.1/lib/python3.6/site-packages/tensorflow_core/python/ops/resource_variable_ops.py:1635: calling BaseResourceVariable.__init__ (from tensorflow.python.ops.resource_variable_ops) with constraint is deprecated and will be removed in a future version.\n",
      "Instructions for updating:\n",
      "If using Keras pass *_constraint arguments to layers.\n"
     ]
    },
    {
     "name": "stdout",
     "output_type": "stream",
     "text": [
      "Model: \"sequential\"\n",
      "_________________________________________________________________\n",
      "Layer (type)                 Output Shape              Param #   \n",
      "=================================================================\n",
      "Conv1 (Conv2D)               (None, 13, 13, 8)         80        \n",
      "_________________________________________________________________\n",
      "flatten (Flatten)            (None, 1352)              0         \n",
      "_________________________________________________________________\n",
      "Softmax (Dense)              (None, 10)                13530     \n",
      "=================================================================\n",
      "Total params: 13,610\n",
      "Trainable params: 13,610\n",
      "Non-trainable params: 0\n",
      "_________________________________________________________________\n"
     ]
    }
   ],
   "source": [
    "model = tf.keras.Sequential([\n",
    "  tf.keras.layers.Conv2D(input_shape=(28,28,1), filters=8, kernel_size=3, \n",
    "                      strides=2, activation='relu', name='Conv1'),\n",
    "  tf.keras.layers.Flatten(),\n",
    "  tf.keras.layers.Dense(10, activation=tf.nn.softmax, name='Softmax')\n",
    "])\n",
    "model.summary()"
   ]
  },
  {
   "cell_type": "code",
   "execution_count": 8,
   "metadata": {},
   "outputs": [],
   "source": [
    "def preprocess_image(image_buffer):\n",
    "    image = tf.image.decode_jpeg(image_buffer, channels=1)\n",
    "    image = tf.image.resize(image, (28, 28))\n",
    "    image = tf.image.convert_image_dtype(image, dtype=tf.float32)\n",
    "\n",
    "    return image / 255"
   ]
  },
  {
   "cell_type": "code",
   "execution_count": 9,
   "metadata": {},
   "outputs": [
    {
     "name": "stderr",
     "output_type": "stream",
     "text": [
      "W0413 19:24:52.154987 139790839142208 deprecation.py:323] From <ipython-input-9-c4a14d945962>:23: build_tensor_info (from tensorflow.python.saved_model.utils_impl) is deprecated and will be removed in a future version.\n",
      "Instructions for updating:\n",
      "This function will only be available through the v1 compatibility library as tf.compat.v1.saved_model.utils.build_tensor_info or tf.compat.v1.saved_model.build_tensor_info.\n"
     ]
    }
   ],
   "source": [
    "# Create the classify signature and the metagraph\n",
    "NUM_CLASSES = len(class_names)\n",
    "\n",
    "serialized_tf_example = array_ops.placeholder(tf.string,\n",
    "                                              name='tf_example')\n",
    "feature_configs = {'x': tf.io.FixedLenFeature([], tf.string), }\n",
    "tf_example = tf.io.parse_example(serialized_tf_example,\n",
    "                                 feature_configs)\n",
    "\n",
    "jpegs = tf_example['x']\n",
    "x = tf.map_fn(preprocess_image, jpegs, dtype=tf.float32)\n",
    "y = model(x)\n",
    "\n",
    "# Create Signature\n",
    "values, indices = tf.nn.top_k(y, NUM_CLASSES)\n",
    "table = lookup_ops.index_to_string_table_from_tensor(\n",
    "    vocabulary_list=tf.constant(class_names),\n",
    "    default_value=\"UNK\",\n",
    "    name=None\n",
    "    )\n",
    "prediction_classes = table.lookup(tf.cast(indices, dtype=dtypes.int64))\n",
    "\n",
    "classification_inputs = build_tensor_info(serialized_tf_example)\n",
    "classification_outputs_classes = build_tensor_info(prediction_classes)\n",
    "classification_outputs_scores = build_tensor_info(values)\n",
    "\n",
    "classification_signature = build_signature_def(\n",
    "  inputs={\n",
    "      tf.compat.v1.saved_model.signature_constants.CLASSIFY_INPUTS:\n",
    "          classification_inputs\n",
    "  },\n",
    "  outputs={\n",
    "      tf.compat.v1.saved_model.signature_constants\n",
    "      .CLASSIFY_OUTPUT_CLASSES:\n",
    "          classification_outputs_classes,\n",
    "      tf.compat.v1.saved_model.signature_constants\n",
    "      .CLASSIFY_OUTPUT_SCORES:\n",
    "          classification_outputs_scores\n",
    "  },\n",
    "  method_name=tf.compat.v1.saved_model.signature_constants\n",
    "  .CLASSIFY_METHOD_NAME)\n",
    "\n",
    "# validating signtaure\n",
    "valid_signature = is_valid_signature(classification_signature)\n",
    "if not valid_signature:\n",
    "    self.logger.error('Signature invalid')\n",
    "    raise ValueError(\"Error: Classification signature not valid!\")"
   ]
  },
  {
   "cell_type": "code",
   "execution_count": 10,
   "metadata": {},
   "outputs": [
    {
     "name": "stdout",
     "output_type": "stream",
     "text": [
      "Train on 60000 samples\n",
      "60000/60000 [==============================] - 5s 91us/sample - loss: 0.5487 - accuracy: 0.8096\n"
     ]
    },
    {
     "data": {
      "text/plain": [
       "<tensorflow.python.keras.callbacks.History at 0x7f2308283da0>"
      ]
     },
     "execution_count": 10,
     "metadata": {},
     "output_type": "execute_result"
    }
   ],
   "source": [
    "# This just to get a trained model. You need to create a better \n",
    "# model with more layers and optimize the options in real scenario\n",
    "# to get good performance\n",
    "epochs = 1\n",
    "\n",
    "model.compile(optimizer=tf.optimizers.Adam(), \n",
    "              loss='sparse_categorical_crossentropy',\n",
    "              metrics=['accuracy'])\n",
    "\n",
    "model.fit(train_images, train_labels, epochs=epochs)"
   ]
  },
  {
   "cell_type": "code",
   "execution_count": 11,
   "metadata": {},
   "outputs": [
    {
     "name": "stdout",
     "output_type": "stream",
     "text": [
      "\n",
      "Already saved a model, cleaning up\n",
      "\n"
     ]
    },
    {
     "data": {
      "text/plain": [
       "b'./models/123/saved_model.pb'"
      ]
     },
     "execution_count": 11,
     "metadata": {},
     "output_type": "execute_result"
    }
   ],
   "source": [
    "# Delete if there is already a model existing at the path\n",
    "export_path = './models/123'\n",
    "if os.path.isdir(export_path):\n",
    "    print('\\nAlready saved a model, cleaning up\\n')\n",
    "    !rm -r {export_path}\n",
    "\n",
    "session = get_session()\n",
    "builder = saved_builder.SavedModelBuilder(export_path)\n",
    "\n",
    "# Add the meta_graph and the variables to the builder\n",
    "serv_key = signature_constants.DEFAULT_SERVING_SIGNATURE_DEF_KEY\n",
    "builder.add_meta_graph_and_variables(\n",
    "      session, [tag_constants.SERVING],\n",
    "      signature_def_map={\n",
    "           serv_key: classification_signature,\n",
    "      },\n",
    "      main_op=tf.compat.v1.tables_initializer(),\n",
    "      strip_default_attrs=True)\n",
    "# save the graph\n",
    "builder.save()"
   ]
  },
  {
   "cell_type": "markdown",
   "metadata": {},
   "source": [
    "- - - -"
   ]
  },
  {
   "cell_type": "markdown",
   "metadata": {},
   "source": [
    "## Deploy the model"
   ]
  },
  {
   "cell_type": "markdown",
   "metadata": {},
   "source": [
    "### Run the docker server\n",
    "Refer to the blog for more details"
   ]
  },
  {
   "cell_type": "raw",
   "metadata": {},
   "source": [
    "docker run -t --rm -p 8501:8501 -v \"$(pwd)/models/:/models/fashion\" -e MODEL_NAME=fashion tensorflow/serving &"
   ]
  },
  {
   "cell_type": "markdown",
   "metadata": {},
   "source": [
    "### Send request and get the outputs"
   ]
  },
  {
   "cell_type": "code",
   "execution_count": 12,
   "metadata": {},
   "outputs": [],
   "source": [
    "import requests\n",
    "import base64\n",
    "import json"
   ]
  },
  {
   "cell_type": "code",
   "execution_count": 13,
   "metadata": {},
   "outputs": [],
   "source": [
    "headers = {\"content-type\": \"application/json\"}\n",
    "SERVER_URL = 'http://localhost:8501/v1/models/fashion:classify'\n",
    "\n",
    "loaded_image = open('Dinning_val_3.jpg', 'rb').read()\n",
    "jpeg_bytes = base64.b64encode(loaded_image).decode('utf-8')"
   ]
  },
  {
   "cell_type": "code",
   "execution_count": 14,
   "metadata": {},
   "outputs": [],
   "source": [
    "body = {\n",
    "    \"signature_name\": \"serving_default\",\n",
    "    \"examples\" : [{\n",
    "        \"x\": { \"b64\": jpeg_bytes},  \n",
    "     }]\n",
    "}"
   ]
  },
  {
   "cell_type": "code",
   "execution_count": 15,
   "metadata": {},
   "outputs": [],
   "source": [
    "r = requests.post(SERVER_URL, data=json.dumps(body), headers = headers)"
   ]
  },
  {
   "cell_type": "code",
   "execution_count": 16,
   "metadata": {},
   "outputs": [
    {
     "name": "stdout",
     "output_type": "stream",
     "text": [
      "<Response [200]>\n"
     ]
    }
   ],
   "source": [
    "print(r)"
   ]
  },
  {
   "cell_type": "code",
   "execution_count": 17,
   "metadata": {
    "scrolled": true
   },
   "outputs": [
    {
     "data": {
      "text/plain": [
       "{'results': [[['Bag', 0.999858618],\n",
       "   ['Shirt', 6.90536544e-05],\n",
       "   ['T-shirt/top', 4.54395085e-05],\n",
       "   ['Trouser', 2.42908627e-05],\n",
       "   ['Dress', 2.16052649e-06],\n",
       "   ['Ankle boot', 3.70926585e-07],\n",
       "   ['Pullover', 3.7451251e-08],\n",
       "   ['Coat', 1.59411251e-09],\n",
       "   ['Sneaker', 9.65969305e-10],\n",
       "   ['Sandal', 1.49970661e-11]]]}"
      ]
     },
     "execution_count": 17,
     "metadata": {},
     "output_type": "execute_result"
    }
   ],
   "source": [
    "json.loads(r.text)"
   ]
  }
 ],
 "metadata": {
  "accelerator": "GPU",
  "colab": {
   "collapsed_sections": [],
   "name": "rest_simple.ipynb",
   "provenance": [],
   "toc_visible": true,
   "version": "0.3.2"
  },
  "kernelspec": {
   "display_name": "Python 3",
   "language": "python",
   "name": "python3"
  },
  "language_info": {
   "codemirror_mode": {
    "name": "ipython",
    "version": 3
   },
   "file_extension": ".py",
   "mimetype": "text/x-python",
   "name": "python",
   "nbconvert_exporter": "python",
   "pygments_lexer": "ipython3",
   "version": "3.6.10"
  }
 },
 "nbformat": 4,
 "nbformat_minor": 1
}
